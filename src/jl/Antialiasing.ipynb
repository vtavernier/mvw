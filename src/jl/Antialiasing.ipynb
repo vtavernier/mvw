{
 "cells": [
  {
   "cell_type": "markdown",
   "metadata": {},
   "source": [
    "# Antialising contrast-corrected Gabor noise"
   ]
  },
  {
   "cell_type": "code",
   "execution_count": null,
   "metadata": {},
   "outputs": [],
   "source": [
    "using MVW, MsgPack, Images, Plots"
   ]
  },
  {
   "cell_type": "code",
   "execution_count": null,
   "metadata": {},
   "outputs": [],
   "source": [
    "# Load the parameters from a file\n",
    "function loadparams(c, file)\n",
    "    for (k, v) in MsgPack.unpack(read(file))\n",
    "        try\n",
    "            setparam(c, k, v)\n",
    "        catch err\n",
    "            println(err)\n",
    "        end\n",
    "    end\n",
    "end\n",
    "\n",
    "# Save the current parameters of the GN shader to a file\n",
    "function saveparams(c, file)\n",
    "    params = map(getparams(c)) do p\n",
    "        (p[\"s_name\"], p[\"value\"])\n",
    "    end\n",
    "    write(file, MsgPack.pack(params))\n",
    "end"
   ]
  },
  {
   "cell_type": "code",
   "execution_count": null,
   "metadata": {},
   "outputs": [],
   "source": [
    "c = spawn(\"../../build\", [\"-g\", \"../models/mcguire/bunny/bunny.obj\", \"-s\", \"glsl/gabor-noise-solid.glsl\", \"-p\", \"glsl/pp-identity.glsl\", \"-m\"])"
   ]
  },
  {
   "cell_type": "code",
   "execution_count": null,
   "metadata": {},
   "outputs": [],
   "source": [
    "loadparams(c, \"sphere.bin\")"
   ]
  },
  {
   "cell_type": "code",
   "execution_count": null,
   "metadata": {},
   "outputs": [],
   "source": [
    "noise(c) = Gray.(channelview(getframe(c; size=(512, 512)))[1, :, :])\n",
    "function alln(c; target=\"\")\n",
    "    channels = channelview(getframe(c; size=(1024, 1024), target=target))\n",
    "    map(1:4) do i\n",
    "        Gray.(channels[i, :, :])\n",
    "    end\n",
    "end"
   ]
  },
  {
   "cell_type": "code",
   "execution_count": null,
   "metadata": {},
   "outputs": [],
   "source": [
    "using FFTW, LinearAlgebra, Interact, Statistics"
   ]
  },
  {
   "cell_type": "code",
   "execution_count": null,
   "metadata": {},
   "outputs": [],
   "source": [
    "@manipulate for f0 = 1:1:200, w0x = 0:0.1:(2*pi), w0y = 0:0.1:(2*pi)\n",
    "    setparam(c, \"gF0\", f0)\n",
    "    setparam(c, \"gTilesize\", 0.1)\n",
    "    setparam(c, \"gW0\", [w0x, w0y])\n",
    "    img = channelview(getframe(c))[3, :, :]\n",
    "    img_spectrum = log.(norm.(fftshift(fft(img)))^2)\n",
    "    Gray.(img_spectrum ./ maximum(img_spectrum))\n",
    "end"
   ]
  },
  {
   "cell_type": "code",
   "execution_count": null,
   "metadata": {},
   "outputs": [],
   "source": [
    "imgs=alln(c; target=\"geometry\")"
   ]
  },
  {
   "cell_type": "code",
   "execution_count": null,
   "metadata": {},
   "outputs": [],
   "source": [
    "heatmap(channelview(imgs[2]), aspectratio=1, yflip=true)"
   ]
  },
  {
   "cell_type": "code",
   "execution_count": null,
   "metadata": {},
   "outputs": [],
   "source": [
    "heatmap(channelview(imgs[3]), aspectratio=1, yflip=true)"
   ]
  },
  {
   "cell_type": "code",
   "execution_count": null,
   "metadata": {},
   "outputs": [],
   "source": [
    "finalize(c)"
   ]
  },
  {
   "cell_type": "code",
   "execution_count": null,
   "metadata": {},
   "outputs": [],
   "source": [
    "c = connect()"
   ]
  },
  {
   "cell_type": "code",
   "execution_count": null,
   "metadata": {},
   "outputs": [],
   "source": []
  }
 ],
 "metadata": {
  "kernelspec": {
   "display_name": "Julia 1.1.0",
   "language": "julia",
   "name": "julia-1.1"
  },
  "language_info": {
   "file_extension": ".jl",
   "mimetype": "application/julia",
   "name": "julia",
   "version": "1.1.0"
  }
 },
 "nbformat": 4,
 "nbformat_minor": 2
}
