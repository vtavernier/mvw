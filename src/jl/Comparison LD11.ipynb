{
 "cells": [
  {
   "cell_type": "code",
   "execution_count": null,
   "metadata": {},
   "outputs": [],
   "source": [
    "using MVW, Images, Plots"
   ]
  },
  {
   "cell_type": "code",
   "execution_count": null,
   "metadata": {},
   "outputs": [],
   "source": [
    "c11 = connect(\"ipc:///tmp/mvw_ld11.sock\");\n",
    "c19 = connect(\"ipc:///tmp/mvw_2019.sock\");"
   ]
  },
  {
   "cell_type": "code",
   "execution_count": null,
   "metadata": {},
   "outputs": [],
   "source": [
    "img11 = getframe(c11; size=(1024,1024), target=\"geometry\");\n",
    "img19 = getframe(c19; size=(1024,1024), target=\"geometry\");\n",
    "map(x -> Gray.(red.(x)), [img11, img19])"
   ]
  },
  {
   "cell_type": "code",
   "execution_count": null,
   "metadata": {},
   "outputs": [],
   "source": [
    "img = getframe(c; size=(1024,1024), target=\"postprocess\")\n",
    "channels = channelview(img)\n",
    "alpha = channels[4,:,:]\n",
    "f = channels[2,:,:]\n",
    "histogram(f[alpha .> 0.5]; bins=range(0,10,length=20))"
   ]
  },
  {
   "cell_type": "code",
   "execution_count": null,
   "metadata": {},
   "outputs": [],
   "source": [
    "heatmap(clamp.(f,0.,10.).*alpha, yflip=true, aspectratio=1)"
   ]
  },
  {
   "cell_type": "code",
   "execution_count": null,
   "metadata": {},
   "outputs": [],
   "source": [
    "gc(x) = exp(-pi*x^2)*cos(2*pi*x)\n",
    "gs(x) = exp(-pi*x^2)*sin(2*pi*x)\n",
    "plot(gc,-2,2,title=\"Gabor kernel\",label=\"Cos\")\n",
    "plot!(gs,label=\"Sin\", fmt=:png)"
   ]
  }
 ],
 "metadata": {
  "kernelspec": {
   "display_name": "Julia 1.1.0",
   "language": "julia",
   "name": "julia-1.1"
  },
  "language_info": {
   "file_extension": ".jl",
   "mimetype": "application/julia",
   "name": "julia",
   "version": "1.1.0"
  }
 },
 "nbformat": 4,
 "nbformat_minor": 2
}
